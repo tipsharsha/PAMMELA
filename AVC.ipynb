{
 "cells": [
  {
   "cell_type": "code",
   "execution_count": null,
   "metadata": {},
   "outputs": [],
   "source": [
    "designation_grp = [['CEO'],\n",
    "                   ['CTO'],\n",
    "                   ['FINANCE MANAGER'],\n",
    "                   ['HR MANAGER'],\n",
    "                   ['DESIGNER','PROGRAMMER','SDE','TESTER'],\n",
    "                   ['PROJECT_MANAGER','SYSTEM_ARCHITECT'],\n",
    "                   ['PROJECT_LEADER','PRINCIPAL'],\n",
    "                   ['IT_MANAGER','SECURTY_ENGINEER'],\n",
    "                   ['NETWORK_ENGINEER'],\n",
    "                   ['DATABASE_ENGINEER']\n",
    "                  ]\n",
    "\n",
    "resource_grp = [['EMP_DETAIL'],\n",
    "                ['CLIENT_DETAIL'],\n",
    "                ['SALARY_DETAIL','PF_DETAIL'],\n",
    "                ['PROJECT_DETAIL','PROJECT_PLAN'],\n",
    "                ['NETWORK_SETUP'],\n",
    "                ['DATABASE'],\n",
    "                ['PROJECT_COST','ALLOCATED_FUND','FINANCE_REPORT','TAX_DETAIL'],\n",
    "                ['SERVER','STORAGE','GPU']\n",
    "               ]\n",
    "\n",
    "attr_grp_it={}\n",
    "attr_grp_it['DESIGNATION'] = designation_grp\n",
    "attr_grp_it['Resource'] = resource_grp\n",
    "\n",
    "designation_grp = [['Accountant'],\n",
    "                   ['Faculty'],\n",
    "                   ['Placement_coordinator','Stud_representative'],\n",
    "                   ['Stud'],\n",
    "                   ['Teaching_assis']\n",
    "                  ]\n",
    "\n",
    "post_grp = [['Associate','Assistant','Temporary'],\n",
    "            ['Graduate','Undergraduate'],\n",
    "            ['PhD'],\n",
    "            ['Non_Teaching']            \n",
    "               ]\n",
    "\n",
    "type_grp = [['assgn','report_assgn'],\n",
    "            ['ac_details','budget','payment_details'],\n",
    "            ['mids_paper','compre_paper','answer_sheet'],\n",
    "            ['result'],\n",
    "            ['attendance'],['placement_details','grade_book']\n",
    "           ]\n",
    "\n",
    "attr_grp_uni={}\n",
    "attr_grp_uni['DESIGNATION'] = designation_grp\n",
    "attr_grp_uni['Post'] = post_grp\n",
    "attr_grp_uni['Type'] = type_grp\n"
   ]
  }
 ],
 "metadata": {
  "language_info": {
   "name": "python"
  }
 },
 "nbformat": 4,
 "nbformat_minor": 2
}
