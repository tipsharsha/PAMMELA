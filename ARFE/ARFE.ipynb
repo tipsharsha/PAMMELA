{
 "cells": [
  {
   "cell_type": "code",
   "execution_count": 1,
   "metadata": {},
   "outputs": [
    {
     "name": "stderr",
     "output_type": "stream",
     "text": [
      "C:\\Users\\tipsh\\AppData\\Local\\Temp\\ipykernel_23420\\2337848081.py:1: DeprecationWarning: \n",
      "Pyarrow will become a required dependency of pandas in the next major release of pandas (pandas 3.0),\n",
      "(to allow more performant data types, such as the Arrow string type, and better interoperability with other libraries)\n",
      "but was not found to be installed on your system.\n",
      "If this would cause problems for you,\n",
      "please provide us feedback at https://github.com/pandas-dev/pandas/issues/54466\n",
      "        \n",
      "  import pandas as pd\n"
     ]
    }
   ],
   "source": [
    "import pandas as pd\n",
    "import numpy as np\n",
    "import matplotlib.pyplot as plt\n",
    "import seaborn as sns\n",
    "import os\n",
    "import sys\n",
    "import threading\n",
    "\n",
    "from sklearn.svm import SVC\n",
    "from sklearn.metrics import confusion_matrix\n",
    "from xgboost import XGBClassifier\n",
    "#from lightgbm import LGBMClassifier\n",
    "from sklearn.neural_network import MLPClassifier\n",
    "from sklearn.linear_model import LogisticRegression\n",
    "from sklearn.tree import DecisionTreeClassifier, ExtraTreeClassifier\n",
    "from sklearn.ensemble import RandomForestClassifier, GradientBoostingClassifier, AdaBoostClassifier, ExtraTreesClassifier\n"
   ]
  },
  {
   "cell_type": "code",
   "execution_count": 2,
   "metadata": {},
   "outputs": [],
   "source": [
    "trains = [\"University2/university_new_test.csv\",\"University1/university_saptarshi_train.csv\",\"Company/it_train_new1.csv\"]\n",
    "tests = [\"change_University2.csv\",\"change_University1.csv\",\"change_Company.csv\"]\n",
    "test1 = [\"change2_University2.csv\",\"change2_University1.csv\",\"change2_Company.csv\"]\n",
    "data_names = [\"University2\",\"University1\",\"Company\"]\n",
    "\n",
    "models_dict = {\n",
    "    #\"SupportVectorMachine\": SVC(kernel=\"linear\"),\n",
    "    #\"LogisticRegression\": LogisticRegression(solver=\"saga\", n_jobs=-1),\n",
    "    \"ArtificalNeuralNetwork\": MLPClassifier(hidden_layer_sizes=30, max_iter=1500),\n",
    "    \"DecisionTree\": DecisionTreeClassifier(),\n",
    "    #\"ExtraTree\": ExtraTreeClassifier(),\n",
    "    \"RandomForest\": RandomForestClassifier(n_jobs=-1),\n",
    "    \"ExtraTrees\": ExtraTreesClassifier(n_jobs=-1),\n",
    "    \"XGBoost\": XGBClassifier(use_label_encoder=False, eval_metric=\"error\", n_jobs=-1),\n",
    "    #\"LightGBM\": LGBMClassifier(n_estimators=100, n_jobs=-1),\n",
    "    #\"AdaBoost\": AdaBoostClassifier(n_estimators=100, learning_rate=1.0),\n",
    "    \"GradientBoosting\": GradientBoostingClassifier(n_estimators=100, learning_rate=1.0),\n",
    "}"
   ]
  },
  {
   "cell_type": "code",
   "execution_count": 3,
   "metadata": {},
   "outputs": [],
   "source": [
    "def GetAttributeMapping(data,grp=None,grp_gap=20,map_type=1):\n",
    "    #print('in mapping')\n",
    "    #print(data)\n",
    "    #for col in data.columns[:7]:\n",
    "    #        print(col,data[col].unique())\n",
    "    mapping = {}\n",
    "    mapping['NotA'] = -1\n",
    "    mapping['NA'] = -1\n",
    "    mapping[0] = 0\n",
    "    mapping[-1] = -1\n",
    "    mapping['Yes'] = 1\n",
    "    mapping['No'] = 0\n",
    "    mapping['YES'] =1\n",
    "    mapping['NO'] = 0\n",
    "    if(map_type==1):\n",
    "        for col in data.columns[:len(data.columns)-1]:\n",
    "            if col != 'Year' or col !='Year.1':\n",
    "                col_un = data[col].unique()\n",
    "                cnt = 1\n",
    "                for val in col_un:\n",
    "                    if(val != 'NotA' or val != 'NA' ):\n",
    "                        mapping[val] = cnt\n",
    "                        cnt = cnt + 1\n",
    "            else:\n",
    "                for val in col_un:\n",
    "                    if(val != 'NotA' or val != 'NA' ):\n",
    "                        mapping[val] = int(val)\n",
    "        return mapping\n",
    "    "
   ]
  },
  {
   "cell_type": "code",
   "execution_count": 4,
   "metadata": {},
   "outputs": [],
   "source": [
    "def same_conditions(col1,col2):\n",
    "    if ((col1 == -1) or (col2 == -1)):\n",
    "        return 2\n",
    "    elif (col1==col2):\n",
    "        return 1\n",
    "    else:\n",
    "        return 0\n",
    "\n",
    "def chk_nota(col):\n",
    "    if(col==-1):\n",
    "        return 1\n",
    "    else:\n",
    "        return 0"
   ]
  },
  {
   "cell_type": "code",
   "execution_count": 5,
   "metadata": {},
   "outputs": [],
   "source": [
    "class PrepareDataARFE:      \n",
    "    def GetPreparedDataUni2(train_data,test_data):  \n",
    "        data = pd.concat([train_data,test_data],axis=0)\n",
    "        mapping = GetAttributeMapping(data,map_type=1)\n",
    "        data_encoded = data.replace(mapping)\n",
    "        data_encoded['sameCourse'] = data_encoded.apply(lambda x: same_conditions(x['Course'], x['Course.1']), axis=1)\n",
    "        data_encoded['sameDep'] = data_encoded.apply(lambda x: same_conditions(x['Department'], x['Department.1']), axis=1)\n",
    "        data_encoded['sameDeg'] = data_encoded.apply(lambda x: same_conditions(x['Degree'], x['Degree.1']), axis=1)\n",
    "        data_encoded['sameYr'] = data_encoded.apply(lambda x: same_conditions(x['Year'], x['Year.1']), axis=1)\n",
    "        data_encoded = data_encoded.drop('Department',axis=1)\n",
    "        data_encoded = data_encoded.drop('Department.1',axis=1)\n",
    "        data_encoded = data_encoded.drop('Course',axis=1)\n",
    "        data_encoded = data_encoded.drop('Course.1',axis=1)\n",
    "        data_encoded = data_encoded.drop('Degree',axis=1)\n",
    "        data_encoded = data_encoded.drop('Degree.1',axis=1)\n",
    "        data_encoded = data_encoded.drop('Year',axis=1)\n",
    "        data_encoded = data_encoded.drop('Year.1',axis=1)\n",
    "        X = data_encoded.loc[:, data_encoded.columns != 'Access']\n",
    "        y = data_encoded.loc[:, data_encoded.columns == 'Access']\n",
    "        X_train = X.head(train_data.shape[0])\n",
    "        X_test = X.tail(test_data.shape[0])\n",
    "        y_train = y.head(train_data.shape[0])\n",
    "        y_test = y.tail(test_data.shape[0])\n",
    "        #print(y_train['Access'].unique(),y_test['Access'].unique())\n",
    "        return X_train, X_test, y_train, y_test\n",
    "    def GetPreparedDataUni1(train_data,test_data):  \n",
    "        data = pd.concat([train_data,test_data],axis=0)\n",
    "        mapping = GetAttributeMapping(data,map_type=1)\n",
    "        data_encoded = data.replace(mapping)\n",
    "        data_encoded['sameDep'] = data_encoded.apply(lambda x: same_conditions(x['Department'], x['Department.1']), axis=1)\n",
    "        data_encoded['sameDeg'] = data_encoded.apply(lambda x: same_conditions(x['Degree'], x['Degree.1']), axis=1)\n",
    "        data_encoded['sameYr'] = data_encoded.apply(lambda x: same_conditions(x['Year'], x['Year.1']), axis=1)\n",
    "        data_encoded = data_encoded.drop('Department',axis=1)\n",
    "        data_encoded = data_encoded.drop('Department.1',axis=1)\n",
    "        data_encoded = data_encoded.drop('Degree',axis=1)\n",
    "        data_encoded = data_encoded.drop('Degree.1',axis=1)\n",
    "        data_encoded = data_encoded.drop('Year',axis=1)\n",
    "        data_encoded = data_encoded.drop('Year.1',axis=1)\n",
    "        X = data_encoded.loc[:, data_encoded.columns != 'Access']\n",
    "        y = data_encoded.loc[:, data_encoded.columns == 'Access']\n",
    "        X_train = X.head(train_data.shape[0])\n",
    "        X_test = X.tail(test_data.shape[0])\n",
    "        y_train = y.head(train_data.shape[0])\n",
    "        y_test = y.tail(test_data.shape[0])\n",
    "        return X_train, X_test, y_train, y_test\n",
    "\n",
    "    def GetPreparedDataIT(train_data,test_data):\n",
    "        data = pd.concat([train_data,test_data],axis=0)\n",
    "        mapping = GetAttributeMapping(data,map_type=1)\n",
    "        data_encoded = data.replace(mapping)\n",
    "        data_encoded['sameProj'] = data_encoded.apply(lambda x: same_conditions(x['Project_name'], x['Project_Name']), axis=1)\n",
    "        data_encoded['sameDep'] = data_encoded.apply(lambda x: same_conditions(x['Department'], x['Department.1']), axis=1)\n",
    "        data_encoded = data_encoded.drop('Department',axis=1)\n",
    "        data_encoded = data_encoded.drop('Department.1',axis=1)\n",
    "        data_encoded = data_encoded.drop('Project_name',axis=1)\n",
    "        data_encoded = data_encoded.drop('Project_Name',axis=1)\n",
    "        X = data_encoded.loc[:, data_encoded.columns != 'Access']\n",
    "        y = data_encoded.loc[:, data_encoded.columns == 'Access']        \n",
    "        X_train = X.head(train_data.shape[0])\n",
    "        X_test = X.tail(test_data.shape[0])\n",
    "        y_train = y.head(train_data.shape[0])\n",
    "        y_test = y.tail(test_data.shape[0])\n",
    "        #print(y_train['Access'].unique(),y_test['Access'].unique())\n",
    "        return X_train, X_test, y_train, y_test"
   ]
  },
  {
   "cell_type": "code",
   "execution_count": 6,
   "metadata": {},
   "outputs": [
    {
     "data": {
      "text/html": [
       "<div>\n",
       "<style scoped>\n",
       "    .dataframe tbody tr th:only-of-type {\n",
       "        vertical-align: middle;\n",
       "    }\n",
       "\n",
       "    .dataframe tbody tr th {\n",
       "        vertical-align: top;\n",
       "    }\n",
       "\n",
       "    .dataframe thead th {\n",
       "        text-align: right;\n",
       "    }\n",
       "</style>\n",
       "<table border=\"1\" class=\"dataframe\">\n",
       "  <thead>\n",
       "    <tr style=\"text-align: right;\">\n",
       "      <th></th>\n",
       "      <th>DESIGNATION</th>\n",
       "      <th>Project_name</th>\n",
       "      <th>Department</th>\n",
       "      <th>Resource</th>\n",
       "      <th>Project_Name</th>\n",
       "      <th>Department.1</th>\n",
       "      <th>Access</th>\n",
       "    </tr>\n",
       "  </thead>\n",
       "  <tbody>\n",
       "    <tr>\n",
       "      <th>0</th>\n",
       "      <td>HR MANAGER</td>\n",
       "      <td>NotA</td>\n",
       "      <td>HR</td>\n",
       "      <td>SALARY_DETAIL</td>\n",
       "      <td>P1</td>\n",
       "      <td>HR</td>\n",
       "      <td>YES</td>\n",
       "    </tr>\n",
       "    <tr>\n",
       "      <th>1</th>\n",
       "      <td>HR MANAGER</td>\n",
       "      <td>NotA</td>\n",
       "      <td>HR</td>\n",
       "      <td>SALARY_DETAIL</td>\n",
       "      <td>P2</td>\n",
       "      <td>HR</td>\n",
       "      <td>YES</td>\n",
       "    </tr>\n",
       "    <tr>\n",
       "      <th>2</th>\n",
       "      <td>HR MANAGER</td>\n",
       "      <td>NotA</td>\n",
       "      <td>HR</td>\n",
       "      <td>CLIENT_DETAIL</td>\n",
       "      <td>P1</td>\n",
       "      <td>HR</td>\n",
       "      <td>YES</td>\n",
       "    </tr>\n",
       "    <tr>\n",
       "      <th>3</th>\n",
       "      <td>HR MANAGER</td>\n",
       "      <td>NotA</td>\n",
       "      <td>HR</td>\n",
       "      <td>CLIENT_DETAIL</td>\n",
       "      <td>P2</td>\n",
       "      <td>HR</td>\n",
       "      <td>YES</td>\n",
       "    </tr>\n",
       "    <tr>\n",
       "      <th>4</th>\n",
       "      <td>HR MANAGER</td>\n",
       "      <td>NotA</td>\n",
       "      <td>HR</td>\n",
       "      <td>EMP_DETAIL</td>\n",
       "      <td>P1</td>\n",
       "      <td>DEVELOPMENT</td>\n",
       "      <td>NO</td>\n",
       "    </tr>\n",
       "  </tbody>\n",
       "</table>\n",
       "</div>"
      ],
      "text/plain": [
       "  DESIGNATION Project_name Department       Resource Project_Name  \\\n",
       "0  HR MANAGER         NotA         HR  SALARY_DETAIL           P1   \n",
       "1  HR MANAGER         NotA         HR  SALARY_DETAIL           P2   \n",
       "2  HR MANAGER         NotA         HR  CLIENT_DETAIL           P1   \n",
       "3  HR MANAGER         NotA         HR  CLIENT_DETAIL           P2   \n",
       "4  HR MANAGER         NotA         HR     EMP_DETAIL           P1   \n",
       "\n",
       "  Department.1 Access  \n",
       "0           HR    YES  \n",
       "1           HR    YES  \n",
       "2           HR    YES  \n",
       "3           HR    YES  \n",
       "4  DEVELOPMENT     NO  "
      ]
     },
     "execution_count": 6,
     "metadata": {},
     "output_type": "execute_result"
    }
   ],
   "source": [
    "test_data = pd.read_csv(tests[2])\n",
    "test_data.describe()\n",
    "test_data.head()"
   ]
  },
  {
   "cell_type": "code",
   "execution_count": 7,
   "metadata": {},
   "outputs": [
    {
     "name": "stderr",
     "output_type": "stream",
     "text": [
      "C:\\Users\\tipsh\\AppData\\Local\\Temp\\ipykernel_23420\\801392546.py:8: FutureWarning: Setting an item of incompatible dtype is deprecated and will raise an error in a future version of pandas. Value 'NotA' has dtype incompatible with float64, please explicitly cast to a compatible dtype first.\n",
      "  train_data.fillna('NotA', inplace=True)\n",
      "C:\\Users\\tipsh\\AppData\\Local\\Temp\\ipykernel_23420\\2612894688.py:5: FutureWarning: Downcasting behavior in `replace` is deprecated and will be removed in a future version. To retain the old behavior, explicitly call `result.infer_objects(copy=False)`. To opt-in to the future behavior, set `pd.set_option('future.no_silent_downcasting', True)`\n",
      "  data_encoded = data.replace(mapping)\n",
      "C:\\Users\\tipsh\\AppData\\Local\\Packages\\PythonSoftwareFoundation.Python.3.11_qbz5n2kfra8p0\\LocalCache\\local-packages\\Python311\\site-packages\\sklearn\\neural_network\\_multilayer_perceptron.py:1102: DataConversionWarning: A column-vector y was passed when a 1d array was expected. Please change the shape of y to (n_samples, ), for example using ravel().\n",
      "  y = column_or_1d(y, warn=True)\n"
     ]
    },
    {
     "name": "stdout",
     "output_type": "stream",
     "text": [
      "[[71  2]\n",
      " [ 0 92]]\n",
      "\n",
      "[[73  0]\n",
      " [ 0 92]]\n",
      "\n",
      "[[73  0]\n",
      " [ 0 92]]\n",
      "\n"
     ]
    },
    {
     "name": "stderr",
     "output_type": "stream",
     "text": [
      "C:\\Users\\tipsh\\AppData\\Local\\Packages\\PythonSoftwareFoundation.Python.3.11_qbz5n2kfra8p0\\LocalCache\\local-packages\\Python311\\site-packages\\sklearn\\base.py:1151: DataConversionWarning: A column-vector y was passed when a 1d array was expected. Please change the shape of y to (n_samples,), for example using ravel().\n",
      "  return fit_method(estimator, *args, **kwargs)\n",
      "C:\\Users\\tipsh\\AppData\\Local\\Packages\\PythonSoftwareFoundation.Python.3.11_qbz5n2kfra8p0\\LocalCache\\local-packages\\Python311\\site-packages\\sklearn\\base.py:1151: DataConversionWarning: A column-vector y was passed when a 1d array was expected. Please change the shape of y to (n_samples,), for example using ravel().\n",
      "  return fit_method(estimator, *args, **kwargs)\n"
     ]
    },
    {
     "name": "stdout",
     "output_type": "stream",
     "text": [
      "[[73  0]\n",
      " [ 0 92]]\n",
      "\n",
      "[[72  1]\n",
      " [ 0 92]]\n",
      "\n",
      "[[73  0]\n",
      " [ 0 92]]\n",
      "\n"
     ]
    },
    {
     "name": "stderr",
     "output_type": "stream",
     "text": [
      "C:\\Users\\tipsh\\AppData\\Local\\Packages\\PythonSoftwareFoundation.Python.3.11_qbz5n2kfra8p0\\LocalCache\\local-packages\\Python311\\site-packages\\sklearn\\ensemble\\_gb.py:424: DataConversionWarning: A column-vector y was passed when a 1d array was expected. Please change the shape of y to (n_samples, ), for example using ravel().\n",
      "  y = column_or_1d(y, warn=True)\n",
      "C:\\Users\\tipsh\\AppData\\Local\\Temp\\ipykernel_23420\\2612894688.py:29: FutureWarning: Downcasting behavior in `replace` is deprecated and will be removed in a future version. To retain the old behavior, explicitly call `result.infer_objects(copy=False)`. To opt-in to the future behavior, set `pd.set_option('future.no_silent_downcasting', True)`\n",
      "  data_encoded = data.replace(mapping)\n",
      "C:\\Users\\tipsh\\AppData\\Local\\Packages\\PythonSoftwareFoundation.Python.3.11_qbz5n2kfra8p0\\LocalCache\\local-packages\\Python311\\site-packages\\sklearn\\neural_network\\_multilayer_perceptron.py:1102: DataConversionWarning: A column-vector y was passed when a 1d array was expected. Please change the shape of y to (n_samples, ), for example using ravel().\n",
      "  y = column_or_1d(y, warn=True)\n"
     ]
    },
    {
     "name": "stdout",
     "output_type": "stream",
     "text": [
      "[[3481   72]\n",
      " [ 115  363]]\n",
      "\n",
      "[[3553    0]\n",
      " [   0  478]]\n",
      "\n",
      "[[3553    0]\n",
      " [   0  478]]\n",
      "\n"
     ]
    },
    {
     "name": "stderr",
     "output_type": "stream",
     "text": [
      "C:\\Users\\tipsh\\AppData\\Local\\Packages\\PythonSoftwareFoundation.Python.3.11_qbz5n2kfra8p0\\LocalCache\\local-packages\\Python311\\site-packages\\sklearn\\base.py:1151: DataConversionWarning: A column-vector y was passed when a 1d array was expected. Please change the shape of y to (n_samples,), for example using ravel().\n",
      "  return fit_method(estimator, *args, **kwargs)\n",
      "C:\\Users\\tipsh\\AppData\\Local\\Packages\\PythonSoftwareFoundation.Python.3.11_qbz5n2kfra8p0\\LocalCache\\local-packages\\Python311\\site-packages\\sklearn\\base.py:1151: DataConversionWarning: A column-vector y was passed when a 1d array was expected. Please change the shape of y to (n_samples,), for example using ravel().\n",
      "  return fit_method(estimator, *args, **kwargs)\n"
     ]
    },
    {
     "name": "stdout",
     "output_type": "stream",
     "text": [
      "[[3553    0]\n",
      " [   0  478]]\n",
      "\n",
      "[[3553    0]\n",
      " [   0  478]]\n",
      "\n"
     ]
    },
    {
     "name": "stderr",
     "output_type": "stream",
     "text": [
      "C:\\Users\\tipsh\\AppData\\Local\\Packages\\PythonSoftwareFoundation.Python.3.11_qbz5n2kfra8p0\\LocalCache\\local-packages\\Python311\\site-packages\\sklearn\\ensemble\\_gb.py:424: DataConversionWarning: A column-vector y was passed when a 1d array was expected. Please change the shape of y to (n_samples, ), for example using ravel().\n",
      "  y = column_or_1d(y, warn=True)\n",
      "C:\\Users\\tipsh\\AppData\\Local\\Temp\\ipykernel_23420\\2612894688.py:50: FutureWarning: Downcasting behavior in `replace` is deprecated and will be removed in a future version. To retain the old behavior, explicitly call `result.infer_objects(copy=False)`. To opt-in to the future behavior, set `pd.set_option('future.no_silent_downcasting', True)`\n",
      "  data_encoded = data.replace(mapping)\n"
     ]
    },
    {
     "name": "stdout",
     "output_type": "stream",
     "text": [
      "[[3553    0]\n",
      " [   0  478]]\n",
      "\n"
     ]
    },
    {
     "name": "stderr",
     "output_type": "stream",
     "text": [
      "C:\\Users\\tipsh\\AppData\\Local\\Packages\\PythonSoftwareFoundation.Python.3.11_qbz5n2kfra8p0\\LocalCache\\local-packages\\Python311\\site-packages\\sklearn\\neural_network\\_multilayer_perceptron.py:1102: DataConversionWarning: A column-vector y was passed when a 1d array was expected. Please change the shape of y to (n_samples, ), for example using ravel().\n",
      "  y = column_or_1d(y, warn=True)\n"
     ]
    },
    {
     "name": "stdout",
     "output_type": "stream",
     "text": [
      "[[1100   70]\n",
      " [ 119  327]]\n",
      "\n",
      "[[1170    0]\n",
      " [   0  446]]\n",
      "\n",
      "[[1170    0]\n",
      " [   0  446]]\n",
      "\n"
     ]
    },
    {
     "name": "stderr",
     "output_type": "stream",
     "text": [
      "C:\\Users\\tipsh\\AppData\\Local\\Packages\\PythonSoftwareFoundation.Python.3.11_qbz5n2kfra8p0\\LocalCache\\local-packages\\Python311\\site-packages\\sklearn\\base.py:1151: DataConversionWarning: A column-vector y was passed when a 1d array was expected. Please change the shape of y to (n_samples,), for example using ravel().\n",
      "  return fit_method(estimator, *args, **kwargs)\n",
      "C:\\Users\\tipsh\\AppData\\Local\\Packages\\PythonSoftwareFoundation.Python.3.11_qbz5n2kfra8p0\\LocalCache\\local-packages\\Python311\\site-packages\\sklearn\\base.py:1151: DataConversionWarning: A column-vector y was passed when a 1d array was expected. Please change the shape of y to (n_samples,), for example using ravel().\n",
      "  return fit_method(estimator, *args, **kwargs)\n"
     ]
    },
    {
     "name": "stdout",
     "output_type": "stream",
     "text": [
      "[[1170    0]\n",
      " [   0  446]]\n",
      "\n",
      "[[1170    0]\n",
      " [   0  446]]\n",
      "\n",
      "[[1170    0]\n",
      " [   0  446]]\n",
      "\n"
     ]
    },
    {
     "name": "stderr",
     "output_type": "stream",
     "text": [
      "C:\\Users\\tipsh\\AppData\\Local\\Packages\\PythonSoftwareFoundation.Python.3.11_qbz5n2kfra8p0\\LocalCache\\local-packages\\Python311\\site-packages\\sklearn\\ensemble\\_gb.py:424: DataConversionWarning: A column-vector y was passed when a 1d array was expected. Please change the shape of y to (n_samples, ), for example using ravel().\n",
      "  y = column_or_1d(y, warn=True)\n",
      "C:\\Users\\tipsh\\AppData\\Local\\Temp\\ipykernel_23420\\801392546.py:8: FutureWarning: Setting an item of incompatible dtype is deprecated and will raise an error in a future version of pandas. Value 'NotA' has dtype incompatible with float64, please explicitly cast to a compatible dtype first.\n",
      "  train_data.fillna('NotA', inplace=True)\n",
      "C:\\Users\\tipsh\\AppData\\Local\\Temp\\ipykernel_23420\\2612894688.py:5: FutureWarning: Downcasting behavior in `replace` is deprecated and will be removed in a future version. To retain the old behavior, explicitly call `result.infer_objects(copy=False)`. To opt-in to the future behavior, set `pd.set_option('future.no_silent_downcasting', True)`\n",
      "  data_encoded = data.replace(mapping)\n",
      "C:\\Users\\tipsh\\AppData\\Local\\Packages\\PythonSoftwareFoundation.Python.3.11_qbz5n2kfra8p0\\LocalCache\\local-packages\\Python311\\site-packages\\sklearn\\neural_network\\_multilayer_perceptron.py:1102: DataConversionWarning: A column-vector y was passed when a 1d array was expected. Please change the shape of y to (n_samples, ), for example using ravel().\n",
      "  y = column_or_1d(y, warn=True)\n"
     ]
    },
    {
     "name": "stdout",
     "output_type": "stream",
     "text": [
      "[[102   0]\n",
      " [  0 216]]\n",
      "\n",
      "[[102   0]\n",
      " [  0 216]]\n",
      "\n",
      "[[102   0]\n",
      " [  0 216]]\n",
      "\n"
     ]
    },
    {
     "name": "stderr",
     "output_type": "stream",
     "text": [
      "C:\\Users\\tipsh\\AppData\\Local\\Packages\\PythonSoftwareFoundation.Python.3.11_qbz5n2kfra8p0\\LocalCache\\local-packages\\Python311\\site-packages\\sklearn\\base.py:1151: DataConversionWarning: A column-vector y was passed when a 1d array was expected. Please change the shape of y to (n_samples,), for example using ravel().\n",
      "  return fit_method(estimator, *args, **kwargs)\n",
      "C:\\Users\\tipsh\\AppData\\Local\\Packages\\PythonSoftwareFoundation.Python.3.11_qbz5n2kfra8p0\\LocalCache\\local-packages\\Python311\\site-packages\\sklearn\\base.py:1151: DataConversionWarning: A column-vector y was passed when a 1d array was expected. Please change the shape of y to (n_samples,), for example using ravel().\n",
      "  return fit_method(estimator, *args, **kwargs)\n"
     ]
    },
    {
     "name": "stdout",
     "output_type": "stream",
     "text": [
      "[[102   0]\n",
      " [  0 216]]\n",
      "\n",
      "[[102   0]\n",
      " [  0 216]]\n",
      "\n",
      "[[102   0]\n",
      " [  0 216]]\n",
      "\n"
     ]
    },
    {
     "name": "stderr",
     "output_type": "stream",
     "text": [
      "C:\\Users\\tipsh\\AppData\\Local\\Packages\\PythonSoftwareFoundation.Python.3.11_qbz5n2kfra8p0\\LocalCache\\local-packages\\Python311\\site-packages\\sklearn\\ensemble\\_gb.py:424: DataConversionWarning: A column-vector y was passed when a 1d array was expected. Please change the shape of y to (n_samples, ), for example using ravel().\n",
      "  y = column_or_1d(y, warn=True)\n",
      "C:\\Users\\tipsh\\AppData\\Local\\Temp\\ipykernel_23420\\2612894688.py:29: FutureWarning: Downcasting behavior in `replace` is deprecated and will be removed in a future version. To retain the old behavior, explicitly call `result.infer_objects(copy=False)`. To opt-in to the future behavior, set `pd.set_option('future.no_silent_downcasting', True)`\n",
      "  data_encoded = data.replace(mapping)\n",
      "C:\\Users\\tipsh\\AppData\\Local\\Packages\\PythonSoftwareFoundation.Python.3.11_qbz5n2kfra8p0\\LocalCache\\local-packages\\Python311\\site-packages\\sklearn\\neural_network\\_multilayer_perceptron.py:1102: DataConversionWarning: A column-vector y was passed when a 1d array was expected. Please change the shape of y to (n_samples, ), for example using ravel().\n",
      "  y = column_or_1d(y, warn=True)\n"
     ]
    },
    {
     "name": "stdout",
     "output_type": "stream",
     "text": [
      "[[1]]\n",
      "\n",
      "[[1]]\n",
      "\n",
      "[[1]]\n",
      "\n"
     ]
    },
    {
     "name": "stderr",
     "output_type": "stream",
     "text": [
      "C:\\Users\\tipsh\\AppData\\Local\\Packages\\PythonSoftwareFoundation.Python.3.11_qbz5n2kfra8p0\\LocalCache\\local-packages\\Python311\\site-packages\\sklearn\\base.py:1151: DataConversionWarning: A column-vector y was passed when a 1d array was expected. Please change the shape of y to (n_samples,), for example using ravel().\n",
      "  return fit_method(estimator, *args, **kwargs)\n",
      "C:\\Users\\tipsh\\AppData\\Local\\Packages\\PythonSoftwareFoundation.Python.3.11_qbz5n2kfra8p0\\LocalCache\\local-packages\\Python311\\site-packages\\sklearn\\base.py:1151: DataConversionWarning: A column-vector y was passed when a 1d array was expected. Please change the shape of y to (n_samples,), for example using ravel().\n",
      "  return fit_method(estimator, *args, **kwargs)\n"
     ]
    },
    {
     "name": "stdout",
     "output_type": "stream",
     "text": [
      "[[1]]\n",
      "\n",
      "[[1]]\n",
      "\n",
      "[[1]]\n",
      "\n"
     ]
    },
    {
     "name": "stderr",
     "output_type": "stream",
     "text": [
      "C:\\Users\\tipsh\\AppData\\Local\\Packages\\PythonSoftwareFoundation.Python.3.11_qbz5n2kfra8p0\\LocalCache\\local-packages\\Python311\\site-packages\\sklearn\\ensemble\\_gb.py:424: DataConversionWarning: A column-vector y was passed when a 1d array was expected. Please change the shape of y to (n_samples, ), for example using ravel().\n",
      "  y = column_or_1d(y, warn=True)\n"
     ]
    }
   ],
   "source": [
    "import pandas as pd\n",
    "import time\n",
    "from sklearn.metrics import confusion_matrix\n",
    "\n",
    "def run_models(train,test, models_dict,i,name=''):\n",
    "    train_data = pd.read_csv(train[i])\n",
    "    test_data = pd.read_csv(test[i])\n",
    "    train_data.fillna('NotA', inplace=True)\n",
    "    test_data.fillna('NotA', inplace=True)\n",
    "    if(i==2):\n",
    "        X_train, X_test, y_train, y_test = PrepareDataARFE.GetPreparedDataIT(train_data,test_data)\n",
    "       \n",
    "    elif(i==1):\n",
    "        X_train, X_test, y_train, y_test = PrepareDataARFE.GetPreparedDataUni1(train_data,test_data)\n",
    "    else:\n",
    "        X_train, X_test, y_train, y_test = PrepareDataARFE.GetPreparedDataUni2(train_data,test_data)\n",
    "    for model_name, model in models_dict.items():\n",
    "        model.fit(X_train, y_train)\n",
    "        y_pred = model.predict(X_test)\n",
    "        cm = confusion_matrix(y_test, y_pred)\n",
    "        print(cm)\n",
    "        print(\"\")\n",
    "        with open(f'{data_names[i]}_arfe'+name+'_results.txt', 'a') as f:\n",
    "            f.write(f\"Model: {model_name}\\n\")\n",
    "            f.write(f\"Train Accuracy: {model.score(X_train, y_train)}\\n\")\n",
    "            f.write(f\"Test Accuracy: {model.score(X_test, y_test)}\\n\")\n",
    "            f.write(f\"Confusion Matrix: {cm}\\n\")\n",
    "            f.write(\"\\n\")\n",
    "        \n",
    "        \n",
    "run_models(trains,tests,models_dict,0,\"_change\")\n",
    "run_models(trains,tests,models_dict,1,\"_change\")\n",
    "run_models(trains,tests,models_dict,2,\"_change\")\n",
    "run_models(trains,test1,models_dict,0,'_change2')\n",
    "run_models(trains,test1,models_dict,1,'_change2')\n",
    "# run_models(trains,test1,models_dict,2,'_change2')\n",
    "\n",
    "\n",
    "\n"
   ]
  },
  {
   "cell_type": "code",
   "execution_count": null,
   "metadata": {},
   "outputs": [],
   "source": []
  }
 ],
 "metadata": {
  "kernelspec": {
   "display_name": "Python 3",
   "language": "python",
   "name": "python3"
  },
  "language_info": {
   "codemirror_mode": {
    "name": "ipython",
    "version": 3
   },
   "file_extension": ".py",
   "mimetype": "text/x-python",
   "name": "python",
   "nbconvert_exporter": "python",
   "pygments_lexer": "ipython3",
   "version": "3.11.8"
  }
 },
 "nbformat": 4,
 "nbformat_minor": 2
}
